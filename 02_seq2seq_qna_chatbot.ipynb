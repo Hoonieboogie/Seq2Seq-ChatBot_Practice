{
 "cells": [
  {
   "cell_type": "markdown",
   "id": "ac636ae0",
   "metadata": {},
   "source": [
    "# Seq2Seq Q&A Chatbot 구현\n",
    "- 실행시 모델을 로드하는 부분(\"<여기서부터 시작해주세요>\")부터 실행해 주시면 되겠습니다!"
   ]
  },
  {
   "cell_type": "markdown",
   "id": "e27dc559",
   "metadata": {},
   "source": [
    "## 데이터 취득"
   ]
  },
  {
   "cell_type": "code",
   "execution_count": 1,
   "id": "581070fa",
   "metadata": {},
   "outputs": [
    {
     "data": {
      "text/html": [
       "<div>\n",
       "<style scoped>\n",
       "    .dataframe tbody tr th:only-of-type {\n",
       "        vertical-align: middle;\n",
       "    }\n",
       "\n",
       "    .dataframe tbody tr th {\n",
       "        vertical-align: top;\n",
       "    }\n",
       "\n",
       "    .dataframe thead th {\n",
       "        text-align: right;\n",
       "    }\n",
       "</style>\n",
       "<table border=\"1\" class=\"dataframe\">\n",
       "  <thead>\n",
       "    <tr style=\"text-align: right;\">\n",
       "      <th></th>\n",
       "      <th>Q</th>\n",
       "      <th>A</th>\n",
       "    </tr>\n",
       "  </thead>\n",
       "  <tbody>\n",
       "    <tr>\n",
       "      <th>0</th>\n",
       "      <td>12시 땡!</td>\n",
       "      <td>하루가 또 가네요.</td>\n",
       "    </tr>\n",
       "    <tr>\n",
       "      <th>1</th>\n",
       "      <td>1지망 학교 떨어졌어</td>\n",
       "      <td>위로해 드립니다.</td>\n",
       "    </tr>\n",
       "    <tr>\n",
       "      <th>2</th>\n",
       "      <td>3박4일 놀러가고 싶다</td>\n",
       "      <td>여행은 언제나 좋죠.</td>\n",
       "    </tr>\n",
       "    <tr>\n",
       "      <th>3</th>\n",
       "      <td>3박4일 정도 놀러가고 싶다</td>\n",
       "      <td>여행은 언제나 좋죠.</td>\n",
       "    </tr>\n",
       "    <tr>\n",
       "      <th>4</th>\n",
       "      <td>PPL 심하네</td>\n",
       "      <td>눈살이 찌푸려지죠.</td>\n",
       "    </tr>\n",
       "    <tr>\n",
       "      <th>...</th>\n",
       "      <td>...</td>\n",
       "      <td>...</td>\n",
       "    </tr>\n",
       "    <tr>\n",
       "      <th>11818</th>\n",
       "      <td>훔쳐보는 것도 눈치 보임.</td>\n",
       "      <td>티가 나니까 눈치가 보이는 거죠!</td>\n",
       "    </tr>\n",
       "    <tr>\n",
       "      <th>11819</th>\n",
       "      <td>훔쳐보는 것도 눈치 보임.</td>\n",
       "      <td>훔쳐보는 거 티나나봐요.</td>\n",
       "    </tr>\n",
       "    <tr>\n",
       "      <th>11820</th>\n",
       "      <td>흑기사 해주는 짝남.</td>\n",
       "      <td>설렜겠어요.</td>\n",
       "    </tr>\n",
       "    <tr>\n",
       "      <th>11821</th>\n",
       "      <td>힘든 연애 좋은 연애라는게 무슨 차이일까?</td>\n",
       "      <td>잘 헤어질 수 있는 사이 여부인 거 같아요.</td>\n",
       "    </tr>\n",
       "    <tr>\n",
       "      <th>11822</th>\n",
       "      <td>힘들어서 결혼할까봐</td>\n",
       "      <td>도피성 결혼은 하지 않길 바라요.</td>\n",
       "    </tr>\n",
       "  </tbody>\n",
       "</table>\n",
       "<p>11823 rows × 2 columns</p>\n",
       "</div>"
      ],
      "text/plain": [
       "                             Q                         A\n",
       "0                       12시 땡!                하루가 또 가네요.\n",
       "1                  1지망 학교 떨어졌어                 위로해 드립니다.\n",
       "2                 3박4일 놀러가고 싶다               여행은 언제나 좋죠.\n",
       "3              3박4일 정도 놀러가고 싶다               여행은 언제나 좋죠.\n",
       "4                      PPL 심하네                눈살이 찌푸려지죠.\n",
       "...                        ...                       ...\n",
       "11818           훔쳐보는 것도 눈치 보임.        티가 나니까 눈치가 보이는 거죠!\n",
       "11819           훔쳐보는 것도 눈치 보임.             훔쳐보는 거 티나나봐요.\n",
       "11820              흑기사 해주는 짝남.                    설렜겠어요.\n",
       "11821  힘든 연애 좋은 연애라는게 무슨 차이일까?  잘 헤어질 수 있는 사이 여부인 거 같아요.\n",
       "11822               힘들어서 결혼할까봐        도피성 결혼은 하지 않길 바라요.\n",
       "\n",
       "[11823 rows x 2 columns]"
      ]
     },
     "execution_count": 1,
     "metadata": {},
     "output_type": "execute_result"
    }
   ],
   "source": [
    "import numpy as np\n",
    "import pandas as pd\n",
    "\n",
    "df = pd.read_csv('https://raw.githubusercontent.com/songys/Chatbot_data/refs/heads/master/ChatbotData.csv')\n",
    "df = df[['Q','A']]\n",
    "df"
   ]
  },
  {
   "cell_type": "markdown",
   "id": "df95e446",
   "metadata": {},
   "source": [
    "### 데이터 전처리"
   ]
  },
  {
   "cell_type": "markdown",
   "id": "86bee143",
   "metadata": {},
   "source": [
    "##### 토커나이저 학습 (sentencepiece 활용)\n",
    "\n",
    "- 접두사, 접미사 처리 (bos, eos)"
   ]
  },
  {
   "cell_type": "code",
   "execution_count": 10,
   "id": "b0715e79",
   "metadata": {},
   "outputs": [],
   "source": [
    "q_inputs = []\n",
    "a_inputs = []\n",
    "a_targets = []\n",
    "\n",
    "q_inputs = df['Q'].astype(str).tolist()\n",
    "a_inputs  = ['<bos> ' + a for a in df['A'].astype(str)]\n",
    "a_targets = [a + ' <eos>' for a in df['A'].astype(str)]"
   ]
  },
  {
   "cell_type": "code",
   "execution_count": 11,
   "id": "50948470",
   "metadata": {},
   "outputs": [
    {
     "name": "stdout",
     "output_type": "stream",
     "text": [
      "['학원폭력 짜증나', '학폭 없어졌으면', '학회 가고 있어', '학회 가는 중', '한 가지를 보면 다른 것은 보지 않아도 알지?']\n",
      "['<bos> 학교 폭력은 범죄에요.', '<bos> 학교 폭력은 범죄에요.', '<bos> 잘 다녀 오세요.', '<bos> 잘 다녀 오세요.', '<bos> 한가지만 보면 몰라요.']\n",
      "['학교 폭력은 범죄에요. <eos>', '학교 폭력은 범죄에요. <eos>', '잘 다녀 오세요. <eos>', '잘 다녀 오세요. <eos>', '한가지만 보면 몰라요. <eos>']\n"
     ]
    }
   ],
   "source": [
    "print(q_inputs[5000:5005])\n",
    "print(a_inputs[5000:5005])\n",
    "print(a_targets[5000:5005])"
   ]
  },
  {
   "cell_type": "markdown",
   "id": "e3cdcd40",
   "metadata": {},
   "source": [
    "코퍼스 만들기\n",
    "- 인코더용 (Q)\n",
    "- 디코더용 (A)"
   ]
  },
  {
   "cell_type": "code",
   "execution_count": 13,
   "id": "5d7f93c3",
   "metadata": {},
   "outputs": [],
   "source": [
    "from pathlib import Path\n",
    "\n",
    "encoder_corpus_path = Path(\"Q_corpus.txt\")\n",
    "with encoder_corpus_path.open(\"w\", encoding=\"utf-8\") as f:\n",
    "    for q in q_inputs:   # 질문 리스트\n",
    "        f.write(q.strip() + \"\\n\")"
   ]
  },
  {
   "cell_type": "code",
   "execution_count": 14,
   "id": "2cb12371",
   "metadata": {},
   "outputs": [],
   "source": [
    "decoder_corpus_path = Path(\"A_corpus.txt\")\n",
    "with decoder_corpus_path.open(\"w\", encoding=\"utf-8\") as f:\n",
    "    for a_in, a_tgt in zip(a_inputs, a_targets):\n",
    "        f.write(a_in.strip() + \"\\n\")   # <bos> + 답변\n",
    "        f.write(a_tgt.strip() + \"\\n\")  # 답변 + <eos>"
   ]
  },
  {
   "cell_type": "markdown",
   "id": "88ae93b0",
   "metadata": {},
   "source": [
    "##### 학습용 데이터 Q_input, A_input, A_target 생성 (토큰화 및 시퀀싱)"
   ]
  },
  {
   "cell_type": "markdown",
   "id": "e514ccfd",
   "metadata": {},
   "source": [
    "- Q 토큰화"
   ]
  },
  {
   "cell_type": "code",
   "execution_count": null,
   "id": "4e06ad6d",
   "metadata": {},
   "outputs": [],
   "source": [
    "import sentencepiece as spt\n",
    "\n",
    "input_path = 'Q_corpus.txt'\n",
    "\n",
    "spt.SentencePieceTrainer.Train(\n",
    "    input=input_path,\n",
    "    model_prefix=\"sp_enc\",\n",
    "    vocab_size=10_000,\n",
    "    model_type=\"unigram\",\n",
    "    character_coverage=1.0,     # 한글이면 1.0 권장\n",
    "    pad_id=0, pad_piece=\"<pad>\",# Keras pad=0, mask_zero=True와 안전하게 호환\n",
    "    unk_id=1,                   # 기본 0→1로 이동\n",
    "    bos_id=-1, eos_id=-1,       # (선택) 인코더에선 BOS/EOS 비활성화\n",
    "    hard_vocab_limit=False      # 코퍼스 작을 때 안전장치(권장)\n",
    ")"
   ]
  },
  {
   "cell_type": "code",
   "execution_count": 29,
   "id": "33c46a48",
   "metadata": {},
   "outputs": [
    {
     "name": "stdout",
     "output_type": "stream",
     "text": [
      "<pad>\n",
      "12시 땡!\n",
      "['▁12', '시', '▁땡', '!']\n",
      "[2569, 524, 2013, 125]\n"
     ]
    }
   ],
   "source": [
    "# 토커나이저 모델 로드 & 토큰화 및 시퀀싱\n",
    "sp_enc = spt.SentencePieceProcessor(model_file=\"sp_enc.model\")\n",
    "\n",
    "q_inputs_seqs = [sp_enc.encode(s, out_type=int) for s in q_inputs]\n",
    "\n",
    "print(sp_enc.id_to_piece(0))\n",
    "print(q_inputs[0]) \n",
    "print(sp_enc.encode_as_pieces(q_inputs[0]))\n",
    "print(q_inputs_seqs[0]) # 토큰화 및 시퀀싱 확인"
   ]
  },
  {
   "cell_type": "markdown",
   "id": "5092b0b7",
   "metadata": {},
   "source": [
    "- A 토큰화"
   ]
  },
  {
   "cell_type": "code",
   "execution_count": 24,
   "id": "8e367b04",
   "metadata": {},
   "outputs": [],
   "source": [
    "spt.SentencePieceTrainer.Train(\n",
    "    input=\"A_corpus.txt\",\n",
    "    model_prefix=\"sp_dec\",\n",
    "    vocab_size=10000,\n",
    "    model_type=\"unigram\",\n",
    "    character_coverage=1.0,          # 한글 권장\n",
    "    user_defined_symbols=[\"<bos>\", \"<eos>\"],\n",
    "    pad_id=0, pad_piece=\"<pad>\",     # 패딩은 0번 → mask_zero=True와 호환\n",
    "    unk_id=1,                        # UNK는 1번으로 이동(0과 충돌 방지)\n",
    "    bos_id=-1, eos_id=-1,            # SP 기본 <s>, </s> 비활성화(우리는 <bos>/<eos> 사용)\n",
    "    hard_vocab_limit=False\n",
    ")"
   ]
  },
  {
   "cell_type": "code",
   "execution_count": 44,
   "id": "3d66dc44",
   "metadata": {},
   "outputs": [
    {
     "name": "stdout",
     "output_type": "stream",
     "text": [
      "<pad> <unk> <bos> <eos>\n"
     ]
    }
   ],
   "source": [
    "sp_dec = spt.SentencePieceProcessor(model_file=\"sp_dec.model\")\n",
    "\n",
    "PAD_ID = sp_dec.piece_to_id(\"<pad>\")\n",
    "BOS_ID = sp_dec.piece_to_id(\"<bos>\")\n",
    "EOS_ID = sp_dec.piece_to_id(\"<eos>\")\n",
    "\n",
    "# 1) 원본 A만 토큰화\n",
    "y_ids_list = [sp_dec.encode(a, out_type=int) for a in df['A'].astype(str).tolist()]\n",
    "\n",
    "# 2) 디코더 입력/타깃 구성 (ID 직접 부착)\n",
    "a_inputs_seqs  = [[BOS_ID] + y for y in y_ids_list]     # <bos> + A\n",
    "a_targets_seqs = [y + [EOS_ID] for y in y_ids_list]     # A + <eos>\n",
    "\n",
    "# 3) 무결성 체크\n",
    "i = 0\n",
    "assert a_inputs_seqs[i][0] == BOS_ID\n",
    "assert a_targets_seqs[i][-1] == EOS_ID\n",
    "assert a_inputs_seqs[i][1:] == a_targets_seqs[i][:-1]   # shift OK\n",
    "\n",
    "\n",
    "print(sp_dec.id_to_piece(0), sp_dec.id_to_piece(1), sp_dec.id_to_piece(2), sp_dec.id_to_piece(3))"
   ]
  },
  {
   "cell_type": "markdown",
   "id": "5dd212bc",
   "metadata": {},
   "source": [
    "패딩\n",
    "- q_inputs_seqs\n",
    "- a_inputs_seqs\n",
    "- a_targets_seqs"
   ]
  },
  {
   "cell_type": "code",
   "execution_count": 45,
   "id": "6959371f",
   "metadata": {},
   "outputs": [],
   "source": [
    "VOCAB_SIZE = 10000\n",
    "\n",
    "# ── vocab size (SP는 학습 시점에 고정됨: 반드시 모델의 piece_size 사용!)\n",
    "enc_vocab_size = sp_enc.get_piece_size()   # 인코더용 vocab 크기\n",
    "dec_vocab_size = sp_dec.get_piece_size()   # 디코더용 vocab 크기\n",
    "\n",
    "\n",
    "# ── max length (패딩 길이)\n",
    "enc_max_len = max(len(seq) for seq in q_inputs_seqs)                 # 인코더 입력 길이\n",
    "dec_max_len = max(\n",
    "    max(len(seq) for seq in a_inputs_seqs),                       # \"<bos> …\"\n",
    "    max(len(seq) for seq in a_targets_seqs)                       # \"… <eos>\"\n",
    ")\n",
    "\n",
    "# ⚠️ 주의: Keras Tokenizer처럼 min(VOCAB_SIZE, …)로 줄이면\n",
    "# 실제 ID가 임베딩 input_dim보다 커져서 에러납니다.\n",
    "# → Embedding(input_dim=enc_vocab_size / dec_vocab_size) 로 그대로 쓰세요."
   ]
  },
  {
   "cell_type": "code",
   "execution_count": 46,
   "id": "fbf6633f",
   "metadata": {},
   "outputs": [],
   "source": [
    "from tensorflow.keras.preprocessing.sequence import pad_sequences\n",
    "\n",
    "# PAD ID 확인 (둘 다 0이면 mask_zero=True 쓰기 좋음)\n",
    "enc_PAD = sp_enc.piece_to_id(\"<pad>\") if \"<pad>\" in {sp_enc.id_to_piece(i) for i in range(enc_vocab_size)} else 0\n",
    "dec_PAD = sp_dec.piece_to_id(\"<pad>\")  # 우리가 학습 때 0으로 설정했다면 0\n",
    "\n",
    "enc_inputs_padded  = pad_sequences(q_inputs_seqs,  maxlen=enc_max_len, padding='pre', value=enc_PAD)\n",
    "dec_inputs_padded  = pad_sequences(a_inputs_seqs,  maxlen=dec_max_len, padding='post',value=dec_PAD)\n",
    "dec_targets_padded = pad_sequences(a_targets_seqs, maxlen=dec_max_len, padding='post', value=dec_PAD)\n"
   ]
  },
  {
   "cell_type": "code",
   "execution_count": 47,
   "id": "401ad222",
   "metadata": {},
   "outputs": [
    {
     "name": "stdout",
     "output_type": "stream",
     "text": [
      "[   0    0    0    0    0    0    0    0    0    0    0    0    0    0\n",
      "    0    0    0    0    0    0 2569  524 2013  125]\n",
      "[  2 371  11 307   4  11  12   5   0   0   0   0   0   0   0   0   0   0\n",
      "   0   0   0   0   0   0   0   0   0   0   0   0   0   0   0   0   0   0\n",
      "   0]\n",
      "[371  11 307   4  11  12   5   3   0   0   0   0   0   0   0   0   0   0\n",
      "   0   0   0   0   0   0   0   0   0   0   0   0   0   0   0   0   0   0\n",
      "   0]\n"
     ]
    }
   ],
   "source": [
    "# 최종 확인\n",
    "print(enc_inputs_padded[0])\n",
    "print(dec_inputs_padded[0])\n",
    "print(dec_targets_padded[0])"
   ]
  },
  {
   "cell_type": "code",
   "execution_count": 48,
   "id": "3ab72466",
   "metadata": {},
   "outputs": [],
   "source": [
    "# shift 정렬 확인\n",
    "i = 0\n",
    "assert dec_inputs_padded[i][0] == sp_dec.piece_to_id(\"<bos>\")\n",
    "# 마지막 유효 토큰이 <eos>인지 확인 (패딩 제외)\n",
    "last_non_pad = int((dec_targets_padded[i] != PAD_ID).sum()) - 1\n",
    "assert dec_targets_padded[i][last_non_pad] == sp_dec.piece_to_id(\"<eos>\")\n"
   ]
  },
  {
   "cell_type": "markdown",
   "id": "20f363fa",
   "metadata": {},
   "source": [
    "### 모델 생성 및 학습\n",
    "- `encoder + decoder(teach_forcing)` 구조의 모델 생성 및 학습"
   ]
  },
  {
   "cell_type": "code",
   "execution_count": 49,
   "id": "7e11db1b",
   "metadata": {},
   "outputs": [],
   "source": [
    "EMBED_DIM  = 256\n",
    "LATENT_DIM = 256  # 인코더/디코더 동일 차원 권장"
   ]
  },
  {
   "cell_type": "markdown",
   "id": "43de87d9",
   "metadata": {},
   "source": [
    "##### 인코더 생성"
   ]
  },
  {
   "cell_type": "code",
   "execution_count": null,
   "id": "7ee0b6c6",
   "metadata": {},
   "outputs": [
    {
     "data": {
      "text/html": [
       "<pre style=\"white-space:pre;overflow-x:auto;line-height:normal;font-family:Menlo,'DejaVu Sans Mono',consolas,'Courier New',monospace\"><span style=\"font-weight: bold\">Model: \"functional\"</span>\n",
       "</pre>\n"
      ],
      "text/plain": [
       "\u001b[1mModel: \"functional\"\u001b[0m\n"
      ]
     },
     "metadata": {},
     "output_type": "display_data"
    },
    {
     "data": {
      "text/html": [
       "<pre style=\"white-space:pre;overflow-x:auto;line-height:normal;font-family:Menlo,'DejaVu Sans Mono',consolas,'Courier New',monospace\">┏━━━━━━━━━━━━━━━━━━━━━┳━━━━━━━━━━━━━━━━━━━┳━━━━━━━━━━━━┳━━━━━━━━━━━━━━━━━━━┓\n",
       "┃<span style=\"font-weight: bold\"> Layer (type)        </span>┃<span style=\"font-weight: bold\"> Output Shape      </span>┃<span style=\"font-weight: bold\">    Param # </span>┃<span style=\"font-weight: bold\"> Connected to      </span>┃\n",
       "┡━━━━━━━━━━━━━━━━━━━━━╇━━━━━━━━━━━━━━━━━━━╇━━━━━━━━━━━━╇━━━━━━━━━━━━━━━━━━━┩\n",
       "│ input_layer_1       │ (<span style=\"color: #00d7ff; text-decoration-color: #00d7ff\">None</span>, <span style=\"color: #00af00; text-decoration-color: #00af00\">24</span>)        │          <span style=\"color: #00af00; text-decoration-color: #00af00\">0</span> │ -                 │\n",
       "│ (<span style=\"color: #0087ff; text-decoration-color: #0087ff\">InputLayer</span>)        │                   │            │                   │\n",
       "├─────────────────────┼───────────────────┼────────────┼───────────────────┤\n",
       "│ embedding_1         │ (<span style=\"color: #00d7ff; text-decoration-color: #00d7ff\">None</span>, <span style=\"color: #00af00; text-decoration-color: #00af00\">24</span>, <span style=\"color: #00af00; text-decoration-color: #00af00\">256</span>)   │  <span style=\"color: #00af00; text-decoration-color: #00af00\">1,857,280</span> │ input_layer_1[<span style=\"color: #00af00; text-decoration-color: #00af00\">0</span>]… │\n",
       "│ (<span style=\"color: #0087ff; text-decoration-color: #0087ff\">Embedding</span>)         │                   │            │                   │\n",
       "├─────────────────────┼───────────────────┼────────────┼───────────────────┤\n",
       "│ not_equal_2         │ (<span style=\"color: #00d7ff; text-decoration-color: #00d7ff\">None</span>, <span style=\"color: #00af00; text-decoration-color: #00af00\">24</span>)        │          <span style=\"color: #00af00; text-decoration-color: #00af00\">0</span> │ input_layer_1[<span style=\"color: #00af00; text-decoration-color: #00af00\">0</span>]… │\n",
       "│ (<span style=\"color: #0087ff; text-decoration-color: #0087ff\">NotEqual</span>)          │                   │            │                   │\n",
       "├─────────────────────┼───────────────────┼────────────┼───────────────────┤\n",
       "│ lstm_1 (<span style=\"color: #0087ff; text-decoration-color: #0087ff\">LSTM</span>)       │ [(<span style=\"color: #00d7ff; text-decoration-color: #00d7ff\">None</span>, <span style=\"color: #00af00; text-decoration-color: #00af00\">512</span>),     │  <span style=\"color: #00af00; text-decoration-color: #00af00\">1,574,912</span> │ embedding_1[<span style=\"color: #00af00; text-decoration-color: #00af00\">0</span>][<span style=\"color: #00af00; text-decoration-color: #00af00\">0</span>… │\n",
       "│                     │ (<span style=\"color: #00d7ff; text-decoration-color: #00d7ff\">None</span>, <span style=\"color: #00af00; text-decoration-color: #00af00\">512</span>),      │            │ not_equal_2[<span style=\"color: #00af00; text-decoration-color: #00af00\">0</span>][<span style=\"color: #00af00; text-decoration-color: #00af00\">0</span>] │\n",
       "│                     │ (<span style=\"color: #00d7ff; text-decoration-color: #00d7ff\">None</span>, <span style=\"color: #00af00; text-decoration-color: #00af00\">512</span>)]      │            │                   │\n",
       "└─────────────────────┴───────────────────┴────────────┴───────────────────┘\n",
       "</pre>\n"
      ],
      "text/plain": [
       "┏━━━━━━━━━━━━━━━━━━━━━┳━━━━━━━━━━━━━━━━━━━┳━━━━━━━━━━━━┳━━━━━━━━━━━━━━━━━━━┓\n",
       "┃\u001b[1m \u001b[0m\u001b[1mLayer (type)       \u001b[0m\u001b[1m \u001b[0m┃\u001b[1m \u001b[0m\u001b[1mOutput Shape     \u001b[0m\u001b[1m \u001b[0m┃\u001b[1m \u001b[0m\u001b[1m   Param #\u001b[0m\u001b[1m \u001b[0m┃\u001b[1m \u001b[0m\u001b[1mConnected to     \u001b[0m\u001b[1m \u001b[0m┃\n",
       "┡━━━━━━━━━━━━━━━━━━━━━╇━━━━━━━━━━━━━━━━━━━╇━━━━━━━━━━━━╇━━━━━━━━━━━━━━━━━━━┩\n",
       "│ input_layer_1       │ (\u001b[38;5;45mNone\u001b[0m, \u001b[38;5;34m24\u001b[0m)        │          \u001b[38;5;34m0\u001b[0m │ -                 │\n",
       "│ (\u001b[38;5;33mInputLayer\u001b[0m)        │                   │            │                   │\n",
       "├─────────────────────┼───────────────────┼────────────┼───────────────────┤\n",
       "│ embedding_1         │ (\u001b[38;5;45mNone\u001b[0m, \u001b[38;5;34m24\u001b[0m, \u001b[38;5;34m256\u001b[0m)   │  \u001b[38;5;34m1,857,280\u001b[0m │ input_layer_1[\u001b[38;5;34m0\u001b[0m]… │\n",
       "│ (\u001b[38;5;33mEmbedding\u001b[0m)         │                   │            │                   │\n",
       "├─────────────────────┼───────────────────┼────────────┼───────────────────┤\n",
       "│ not_equal_2         │ (\u001b[38;5;45mNone\u001b[0m, \u001b[38;5;34m24\u001b[0m)        │          \u001b[38;5;34m0\u001b[0m │ input_layer_1[\u001b[38;5;34m0\u001b[0m]… │\n",
       "│ (\u001b[38;5;33mNotEqual\u001b[0m)          │                   │            │                   │\n",
       "├─────────────────────┼───────────────────┼────────────┼───────────────────┤\n",
       "│ lstm_1 (\u001b[38;5;33mLSTM\u001b[0m)       │ [(\u001b[38;5;45mNone\u001b[0m, \u001b[38;5;34m512\u001b[0m),     │  \u001b[38;5;34m1,574,912\u001b[0m │ embedding_1[\u001b[38;5;34m0\u001b[0m][\u001b[38;5;34m0\u001b[0m… │\n",
       "│                     │ (\u001b[38;5;45mNone\u001b[0m, \u001b[38;5;34m512\u001b[0m),      │            │ not_equal_2[\u001b[38;5;34m0\u001b[0m][\u001b[38;5;34m0\u001b[0m] │\n",
       "│                     │ (\u001b[38;5;45mNone\u001b[0m, \u001b[38;5;34m512\u001b[0m)]      │            │                   │\n",
       "└─────────────────────┴───────────────────┴────────────┴───────────────────┘\n"
      ]
     },
     "metadata": {},
     "output_type": "display_data"
    },
    {
     "data": {
      "text/html": [
       "<pre style=\"white-space:pre;overflow-x:auto;line-height:normal;font-family:Menlo,'DejaVu Sans Mono',consolas,'Courier New',monospace\"><span style=\"font-weight: bold\"> Total params: </span><span style=\"color: #00af00; text-decoration-color: #00af00\">3,432,192</span> (13.09 MB)\n",
       "</pre>\n"
      ],
      "text/plain": [
       "\u001b[1m Total params: \u001b[0m\u001b[38;5;34m3,432,192\u001b[0m (13.09 MB)\n"
      ]
     },
     "metadata": {},
     "output_type": "display_data"
    },
    {
     "data": {
      "text/html": [
       "<pre style=\"white-space:pre;overflow-x:auto;line-height:normal;font-family:Menlo,'DejaVu Sans Mono',consolas,'Courier New',monospace\"><span style=\"font-weight: bold\"> Trainable params: </span><span style=\"color: #00af00; text-decoration-color: #00af00\">3,432,192</span> (13.09 MB)\n",
       "</pre>\n"
      ],
      "text/plain": [
       "\u001b[1m Trainable params: \u001b[0m\u001b[38;5;34m3,432,192\u001b[0m (13.09 MB)\n"
      ]
     },
     "metadata": {},
     "output_type": "display_data"
    },
    {
     "data": {
      "text/html": [
       "<pre style=\"white-space:pre;overflow-x:auto;line-height:normal;font-family:Menlo,'DejaVu Sans Mono',consolas,'Courier New',monospace\"><span style=\"font-weight: bold\"> Non-trainable params: </span><span style=\"color: #00af00; text-decoration-color: #00af00\">0</span> (0.00 B)\n",
       "</pre>\n"
      ],
      "text/plain": [
       "\u001b[1m Non-trainable params: \u001b[0m\u001b[38;5;34m0\u001b[0m (0.00 B)\n"
      ]
     },
     "metadata": {},
     "output_type": "display_data"
    }
   ],
   "source": [
    "import tensorflow as tf\n",
    "from tensorflow.keras import layers, models\n",
    "\n",
    "# enc_max_len         # 인코더 입력 시퀀스 최대 길이 (pre-padding 기준)\n",
    "# sp_enc              # SentencePiece 인코더 토크나이저\n",
    "# PAD_ID = sp_enc.piece_to_id(\"<pad>\")  # 0 이어야 mask_zero=True가 정상 동작\n",
    "\n",
    "assert PAD_ID == 0, \"Embedding(mask_zero=True)를 쓰려면 PAD_ID가 0이어야 합니다.\"\n",
    "\n",
    "EMBEDDING_DIM = 256\n",
    "LATENT_DIM    = 512   # 강사님 코드와 동일\n",
    "\n",
    "# ── 인코더 모델 ─────────────────────────────────────────────────────────────\n",
    "encoder_inputs = layers.Input(shape=(enc_max_len,))  # 강사님처럼 고정 길이\n",
    "# (원한다면 shape=(None,)로 해도 됨)\n",
    "\n",
    "en_embedding_layer = layers.Embedding(\n",
    "    input_dim=enc_vocab_size,      # SP vocab 그대로 ( +1 하지 않기 )\n",
    "    output_dim=EMBEDDING_DIM,\n",
    "    mask_zero=True,                # PAD=0 마스킹\n",
    ")\n",
    "x = en_embedding_layer(encoder_inputs)\n",
    "\n",
    "encoder_outputs, h, c = layers.LSTM(\n",
    "    LATENT_DIM, return_state=True\n",
    ")(x)\n",
    "encoder_states = [h, c]\n",
    "\n",
    "encoder_model = models.Model(inputs=encoder_inputs, outputs=encoder_states)\n",
    "encoder_model.summary()"
   ]
  },
  {
   "cell_type": "markdown",
   "id": "d4bdbced",
   "metadata": {},
   "source": [
    "##### 디코더 생성 (teacher-forcing 모델) 생성"
   ]
  },
  {
   "cell_type": "code",
   "execution_count": null,
   "id": "a034773b",
   "metadata": {},
   "outputs": [
    {
     "data": {
      "text/html": [
       "<pre style=\"white-space:pre;overflow-x:auto;line-height:normal;font-family:Menlo,'DejaVu Sans Mono',consolas,'Courier New',monospace\"><span style=\"font-weight: bold\">Model: \"functional_1\"</span>\n",
       "</pre>\n"
      ],
      "text/plain": [
       "\u001b[1mModel: \"functional_1\"\u001b[0m\n"
      ]
     },
     "metadata": {},
     "output_type": "display_data"
    },
    {
     "data": {
      "text/html": [
       "<pre style=\"white-space:pre;overflow-x:auto;line-height:normal;font-family:Menlo,'DejaVu Sans Mono',consolas,'Courier New',monospace\">┏━━━━━━━━━━━━━━━━━━━━━┳━━━━━━━━━━━━━━━━━━━┳━━━━━━━━━━━━┳━━━━━━━━━━━━━━━━━━━┓\n",
       "┃<span style=\"font-weight: bold\"> Layer (type)        </span>┃<span style=\"font-weight: bold\"> Output Shape      </span>┃<span style=\"font-weight: bold\">    Param # </span>┃<span style=\"font-weight: bold\"> Connected to      </span>┃\n",
       "┡━━━━━━━━━━━━━━━━━━━━━╇━━━━━━━━━━━━━━━━━━━╇━━━━━━━━━━━━╇━━━━━━━━━━━━━━━━━━━┩\n",
       "│ input_layer_1       │ (<span style=\"color: #00d7ff; text-decoration-color: #00d7ff\">None</span>, <span style=\"color: #00af00; text-decoration-color: #00af00\">24</span>)        │          <span style=\"color: #00af00; text-decoration-color: #00af00\">0</span> │ -                 │\n",
       "│ (<span style=\"color: #0087ff; text-decoration-color: #0087ff\">InputLayer</span>)        │                   │            │                   │\n",
       "├─────────────────────┼───────────────────┼────────────┼───────────────────┤\n",
       "│ input_layer_2       │ (<span style=\"color: #00d7ff; text-decoration-color: #00d7ff\">None</span>, <span style=\"color: #00d7ff; text-decoration-color: #00d7ff\">None</span>)      │          <span style=\"color: #00af00; text-decoration-color: #00af00\">0</span> │ -                 │\n",
       "│ (<span style=\"color: #0087ff; text-decoration-color: #0087ff\">InputLayer</span>)        │                   │            │                   │\n",
       "├─────────────────────┼───────────────────┼────────────┼───────────────────┤\n",
       "│ embedding_1         │ (<span style=\"color: #00d7ff; text-decoration-color: #00d7ff\">None</span>, <span style=\"color: #00af00; text-decoration-color: #00af00\">24</span>, <span style=\"color: #00af00; text-decoration-color: #00af00\">256</span>)   │  <span style=\"color: #00af00; text-decoration-color: #00af00\">1,857,280</span> │ input_layer_1[<span style=\"color: #00af00; text-decoration-color: #00af00\">0</span>]… │\n",
       "│ (<span style=\"color: #0087ff; text-decoration-color: #0087ff\">Embedding</span>)         │                   │            │                   │\n",
       "├─────────────────────┼───────────────────┼────────────┼───────────────────┤\n",
       "│ not_equal_2         │ (<span style=\"color: #00d7ff; text-decoration-color: #00d7ff\">None</span>, <span style=\"color: #00af00; text-decoration-color: #00af00\">24</span>)        │          <span style=\"color: #00af00; text-decoration-color: #00af00\">0</span> │ input_layer_1[<span style=\"color: #00af00; text-decoration-color: #00af00\">0</span>]… │\n",
       "│ (<span style=\"color: #0087ff; text-decoration-color: #0087ff\">NotEqual</span>)          │                   │            │                   │\n",
       "├─────────────────────┼───────────────────┼────────────┼───────────────────┤\n",
       "│ dec_embedding       │ (<span style=\"color: #00d7ff; text-decoration-color: #00d7ff\">None</span>, <span style=\"color: #00d7ff; text-decoration-color: #00d7ff\">None</span>, <span style=\"color: #00af00; text-decoration-color: #00af00\">256</span>) │  <span style=\"color: #00af00; text-decoration-color: #00af00\">1,314,304</span> │ input_layer_2[<span style=\"color: #00af00; text-decoration-color: #00af00\">0</span>]… │\n",
       "│ (<span style=\"color: #0087ff; text-decoration-color: #0087ff\">Embedding</span>)         │                   │            │                   │\n",
       "├─────────────────────┼───────────────────┼────────────┼───────────────────┤\n",
       "│ lstm_1 (<span style=\"color: #0087ff; text-decoration-color: #0087ff\">LSTM</span>)       │ [(<span style=\"color: #00d7ff; text-decoration-color: #00d7ff\">None</span>, <span style=\"color: #00af00; text-decoration-color: #00af00\">512</span>),     │  <span style=\"color: #00af00; text-decoration-color: #00af00\">1,574,912</span> │ embedding_1[<span style=\"color: #00af00; text-decoration-color: #00af00\">0</span>][<span style=\"color: #00af00; text-decoration-color: #00af00\">0</span>… │\n",
       "│                     │ (<span style=\"color: #00d7ff; text-decoration-color: #00d7ff\">None</span>, <span style=\"color: #00af00; text-decoration-color: #00af00\">512</span>),      │            │ not_equal_2[<span style=\"color: #00af00; text-decoration-color: #00af00\">0</span>][<span style=\"color: #00af00; text-decoration-color: #00af00\">0</span>] │\n",
       "│                     │ (<span style=\"color: #00d7ff; text-decoration-color: #00d7ff\">None</span>, <span style=\"color: #00af00; text-decoration-color: #00af00\">512</span>)]      │            │                   │\n",
       "├─────────────────────┼───────────────────┼────────────┼───────────────────┤\n",
       "│ lstm_2 (<span style=\"color: #0087ff; text-decoration-color: #0087ff\">LSTM</span>)       │ [(<span style=\"color: #00d7ff; text-decoration-color: #00d7ff\">None</span>, <span style=\"color: #00d7ff; text-decoration-color: #00d7ff\">None</span>,     │  <span style=\"color: #00af00; text-decoration-color: #00af00\">1,574,912</span> │ dec_embedding[<span style=\"color: #00af00; text-decoration-color: #00af00\">0</span>]… │\n",
       "│                     │ <span style=\"color: #00af00; text-decoration-color: #00af00\">512</span>), (<span style=\"color: #00d7ff; text-decoration-color: #00d7ff\">None</span>,      │            │ lstm_1[<span style=\"color: #00af00; text-decoration-color: #00af00\">0</span>][<span style=\"color: #00af00; text-decoration-color: #00af00\">1</span>],     │\n",
       "│                     │ <span style=\"color: #00af00; text-decoration-color: #00af00\">512</span>), (<span style=\"color: #00d7ff; text-decoration-color: #00d7ff\">None</span>,      │            │ lstm_1[<span style=\"color: #00af00; text-decoration-color: #00af00\">0</span>][<span style=\"color: #00af00; text-decoration-color: #00af00\">2</span>]      │\n",
       "│                     │ <span style=\"color: #00af00; text-decoration-color: #00af00\">512</span>)]             │            │                   │\n",
       "├─────────────────────┼───────────────────┼────────────┼───────────────────┤\n",
       "│ dense (<span style=\"color: #0087ff; text-decoration-color: #0087ff\">Dense</span>)       │ (<span style=\"color: #00d7ff; text-decoration-color: #00d7ff\">None</span>, <span style=\"color: #00d7ff; text-decoration-color: #00d7ff\">None</span>,      │  <span style=\"color: #00af00; text-decoration-color: #00af00\">2,633,742</span> │ lstm_2[<span style=\"color: #00af00; text-decoration-color: #00af00\">0</span>][<span style=\"color: #00af00; text-decoration-color: #00af00\">0</span>]      │\n",
       "│                     │ <span style=\"color: #00af00; text-decoration-color: #00af00\">5134</span>)             │            │                   │\n",
       "└─────────────────────┴───────────────────┴────────────┴───────────────────┘\n",
       "</pre>\n"
      ],
      "text/plain": [
       "┏━━━━━━━━━━━━━━━━━━━━━┳━━━━━━━━━━━━━━━━━━━┳━━━━━━━━━━━━┳━━━━━━━━━━━━━━━━━━━┓\n",
       "┃\u001b[1m \u001b[0m\u001b[1mLayer (type)       \u001b[0m\u001b[1m \u001b[0m┃\u001b[1m \u001b[0m\u001b[1mOutput Shape     \u001b[0m\u001b[1m \u001b[0m┃\u001b[1m \u001b[0m\u001b[1m   Param #\u001b[0m\u001b[1m \u001b[0m┃\u001b[1m \u001b[0m\u001b[1mConnected to     \u001b[0m\u001b[1m \u001b[0m┃\n",
       "┡━━━━━━━━━━━━━━━━━━━━━╇━━━━━━━━━━━━━━━━━━━╇━━━━━━━━━━━━╇━━━━━━━━━━━━━━━━━━━┩\n",
       "│ input_layer_1       │ (\u001b[38;5;45mNone\u001b[0m, \u001b[38;5;34m24\u001b[0m)        │          \u001b[38;5;34m0\u001b[0m │ -                 │\n",
       "│ (\u001b[38;5;33mInputLayer\u001b[0m)        │                   │            │                   │\n",
       "├─────────────────────┼───────────────────┼────────────┼───────────────────┤\n",
       "│ input_layer_2       │ (\u001b[38;5;45mNone\u001b[0m, \u001b[38;5;45mNone\u001b[0m)      │          \u001b[38;5;34m0\u001b[0m │ -                 │\n",
       "│ (\u001b[38;5;33mInputLayer\u001b[0m)        │                   │            │                   │\n",
       "├─────────────────────┼───────────────────┼────────────┼───────────────────┤\n",
       "│ embedding_1         │ (\u001b[38;5;45mNone\u001b[0m, \u001b[38;5;34m24\u001b[0m, \u001b[38;5;34m256\u001b[0m)   │  \u001b[38;5;34m1,857,280\u001b[0m │ input_layer_1[\u001b[38;5;34m0\u001b[0m]… │\n",
       "│ (\u001b[38;5;33mEmbedding\u001b[0m)         │                   │            │                   │\n",
       "├─────────────────────┼───────────────────┼────────────┼───────────────────┤\n",
       "│ not_equal_2         │ (\u001b[38;5;45mNone\u001b[0m, \u001b[38;5;34m24\u001b[0m)        │          \u001b[38;5;34m0\u001b[0m │ input_layer_1[\u001b[38;5;34m0\u001b[0m]… │\n",
       "│ (\u001b[38;5;33mNotEqual\u001b[0m)          │                   │            │                   │\n",
       "├─────────────────────┼───────────────────┼────────────┼───────────────────┤\n",
       "│ dec_embedding       │ (\u001b[38;5;45mNone\u001b[0m, \u001b[38;5;45mNone\u001b[0m, \u001b[38;5;34m256\u001b[0m) │  \u001b[38;5;34m1,314,304\u001b[0m │ input_layer_2[\u001b[38;5;34m0\u001b[0m]… │\n",
       "│ (\u001b[38;5;33mEmbedding\u001b[0m)         │                   │            │                   │\n",
       "├─────────────────────┼───────────────────┼────────────┼───────────────────┤\n",
       "│ lstm_1 (\u001b[38;5;33mLSTM\u001b[0m)       │ [(\u001b[38;5;45mNone\u001b[0m, \u001b[38;5;34m512\u001b[0m),     │  \u001b[38;5;34m1,574,912\u001b[0m │ embedding_1[\u001b[38;5;34m0\u001b[0m][\u001b[38;5;34m0\u001b[0m… │\n",
       "│                     │ (\u001b[38;5;45mNone\u001b[0m, \u001b[38;5;34m512\u001b[0m),      │            │ not_equal_2[\u001b[38;5;34m0\u001b[0m][\u001b[38;5;34m0\u001b[0m] │\n",
       "│                     │ (\u001b[38;5;45mNone\u001b[0m, \u001b[38;5;34m512\u001b[0m)]      │            │                   │\n",
       "├─────────────────────┼───────────────────┼────────────┼───────────────────┤\n",
       "│ lstm_2 (\u001b[38;5;33mLSTM\u001b[0m)       │ [(\u001b[38;5;45mNone\u001b[0m, \u001b[38;5;45mNone\u001b[0m,     │  \u001b[38;5;34m1,574,912\u001b[0m │ dec_embedding[\u001b[38;5;34m0\u001b[0m]… │\n",
       "│                     │ \u001b[38;5;34m512\u001b[0m), (\u001b[38;5;45mNone\u001b[0m,      │            │ lstm_1[\u001b[38;5;34m0\u001b[0m][\u001b[38;5;34m1\u001b[0m],     │\n",
       "│                     │ \u001b[38;5;34m512\u001b[0m), (\u001b[38;5;45mNone\u001b[0m,      │            │ lstm_1[\u001b[38;5;34m0\u001b[0m][\u001b[38;5;34m2\u001b[0m]      │\n",
       "│                     │ \u001b[38;5;34m512\u001b[0m)]             │            │                   │\n",
       "├─────────────────────┼───────────────────┼────────────┼───────────────────┤\n",
       "│ dense (\u001b[38;5;33mDense\u001b[0m)       │ (\u001b[38;5;45mNone\u001b[0m, \u001b[38;5;45mNone\u001b[0m,      │  \u001b[38;5;34m2,633,742\u001b[0m │ lstm_2[\u001b[38;5;34m0\u001b[0m][\u001b[38;5;34m0\u001b[0m]      │\n",
       "│                     │ \u001b[38;5;34m5134\u001b[0m)             │            │                   │\n",
       "└─────────────────────┴───────────────────┴────────────┴───────────────────┘\n"
      ]
     },
     "metadata": {},
     "output_type": "display_data"
    },
    {
     "data": {
      "text/html": [
       "<pre style=\"white-space:pre;overflow-x:auto;line-height:normal;font-family:Menlo,'DejaVu Sans Mono',consolas,'Courier New',monospace\"><span style=\"font-weight: bold\"> Total params: </span><span style=\"color: #00af00; text-decoration-color: #00af00\">8,955,150</span> (34.16 MB)\n",
       "</pre>\n"
      ],
      "text/plain": [
       "\u001b[1m Total params: \u001b[0m\u001b[38;5;34m8,955,150\u001b[0m (34.16 MB)\n"
      ]
     },
     "metadata": {},
     "output_type": "display_data"
    },
    {
     "data": {
      "text/html": [
       "<pre style=\"white-space:pre;overflow-x:auto;line-height:normal;font-family:Menlo,'DejaVu Sans Mono',consolas,'Courier New',monospace\"><span style=\"font-weight: bold\"> Trainable params: </span><span style=\"color: #00af00; text-decoration-color: #00af00\">8,955,150</span> (34.16 MB)\n",
       "</pre>\n"
      ],
      "text/plain": [
       "\u001b[1m Trainable params: \u001b[0m\u001b[38;5;34m8,955,150\u001b[0m (34.16 MB)\n"
      ]
     },
     "metadata": {},
     "output_type": "display_data"
    },
    {
     "data": {
      "text/html": [
       "<pre style=\"white-space:pre;overflow-x:auto;line-height:normal;font-family:Menlo,'DejaVu Sans Mono',consolas,'Courier New',monospace\"><span style=\"font-weight: bold\"> Non-trainable params: </span><span style=\"color: #00af00; text-decoration-color: #00af00\">0</span> (0.00 B)\n",
       "</pre>\n"
      ],
      "text/plain": [
       "\u001b[1m Non-trainable params: \u001b[0m\u001b[38;5;34m0\u001b[0m (0.00 B)\n"
      ]
     },
     "metadata": {},
     "output_type": "display_data"
    }
   ],
   "source": [
    "decoder_inputs = layers.Input(shape=(None,))  # (B, T_dec)\n",
    "\n",
    "dec_embedding  = layers.Embedding(\n",
    "    input_dim=dec_vocab_size,\n",
    "    output_dim=EMBED_DIM,\n",
    "    mask_zero=True,\n",
    "    name=\"dec_embedding\"\n",
    ")\n",
    "y = dec_embedding(decoder_inputs)\n",
    "\n",
    "decoder_lstm = layers.LSTM(\n",
    "    LATENT_DIM, return_sequences=True, return_state=True\n",
    ")\n",
    "y, _, _ = decoder_lstm(y, initial_state=encoder_states)\n",
    "\n",
    "decoder_dense = layers.Dense(dec_vocab_size, activation=\"softmax\")\n",
    "decoder_outputs = decoder_dense(y)\n",
    "\n",
    "# 학습용 모델(인코더 + 디코더 결합) \n",
    "decoder_teacher_forcing_model = models.Model(\n",
    "    inputs=[encoder_inputs, decoder_inputs],\n",
    "    outputs=decoder_outputs,\n",
    ")\n",
    "\n",
    "decoder_teacher_forcing_model.summary()"
   ]
  },
  {
   "cell_type": "markdown",
   "id": "33b123b6",
   "metadata": {},
   "source": [
    "##### 학습"
   ]
  },
  {
   "cell_type": "code",
   "execution_count": 57,
   "id": "c1287f26",
   "metadata": {},
   "outputs": [
    {
     "name": "stdout",
     "output_type": "stream",
     "text": [
      "Epoch 1/30\n",
      "\u001b[1m148/148\u001b[0m \u001b[32m━━━━━━━━━━━━━━━━━━━━\u001b[0m\u001b[37m\u001b[0m \u001b[1m69s\u001b[0m 451ms/step - accuracy: 0.2201 - loss: 0.0080 - val_accuracy: 0.0865 - val_loss: 7.7730\n",
      "Epoch 2/30\n",
      "\u001b[1m148/148\u001b[0m \u001b[32m━━━━━━━━━━━━━━━━━━━━\u001b[0m\u001b[37m\u001b[0m \u001b[1m66s\u001b[0m 448ms/step - accuracy: 0.2197 - loss: 0.0176 - val_accuracy: 0.0856 - val_loss: 7.7229\n",
      "Epoch 3/30\n",
      "\u001b[1m148/148\u001b[0m \u001b[32m━━━━━━━━━━━━━━━━━━━━\u001b[0m\u001b[37m\u001b[0m \u001b[1m67s\u001b[0m 451ms/step - accuracy: 0.2198 - loss: 0.0131 - val_accuracy: 0.0864 - val_loss: 7.7711\n",
      "Epoch 4/30\n",
      "\u001b[1m148/148\u001b[0m \u001b[32m━━━━━━━━━━━━━━━━━━━━\u001b[0m\u001b[37m\u001b[0m \u001b[1m66s\u001b[0m 444ms/step - accuracy: 0.2201 - loss: 0.0088 - val_accuracy: 0.0865 - val_loss: 7.8260\n",
      "Epoch 5/30\n",
      "\u001b[1m148/148\u001b[0m \u001b[32m━━━━━━━━━━━━━━━━━━━━\u001b[0m\u001b[37m\u001b[0m \u001b[1m66s\u001b[0m 449ms/step - accuracy: 0.2201 - loss: 0.0068 - val_accuracy: 0.0874 - val_loss: 7.8476\n",
      "Epoch 6/30\n",
      "\u001b[1m148/148\u001b[0m \u001b[32m━━━━━━━━━━━━━━━━━━━━\u001b[0m\u001b[37m\u001b[0m \u001b[1m82s\u001b[0m 447ms/step - accuracy: 0.2201 - loss: 0.0062 - val_accuracy: 0.0869 - val_loss: 7.8992\n",
      "Epoch 7/30\n",
      "\u001b[1m148/148\u001b[0m \u001b[32m━━━━━━━━━━━━━━━━━━━━\u001b[0m\u001b[37m\u001b[0m \u001b[1m68s\u001b[0m 460ms/step - accuracy: 0.2201 - loss: 0.0050 - val_accuracy: 0.0872 - val_loss: 7.9039\n",
      "Epoch 8/30\n",
      "\u001b[1m148/148\u001b[0m \u001b[32m━━━━━━━━━━━━━━━━━━━━\u001b[0m\u001b[37m\u001b[0m \u001b[1m64s\u001b[0m 434ms/step - accuracy: 0.2201 - loss: 0.0053 - val_accuracy: 0.0871 - val_loss: 7.9447\n",
      "Epoch 9/30\n",
      "\u001b[1m148/148\u001b[0m \u001b[32m━━━━━━━━━━━━━━━━━━━━\u001b[0m\u001b[37m\u001b[0m \u001b[1m64s\u001b[0m 435ms/step - accuracy: 0.2201 - loss: 0.0050 - val_accuracy: 0.0879 - val_loss: 7.9426\n",
      "Epoch 10/30\n",
      "\u001b[1m148/148\u001b[0m \u001b[32m━━━━━━━━━━━━━━━━━━━━\u001b[0m\u001b[37m\u001b[0m \u001b[1m63s\u001b[0m 427ms/step - accuracy: 0.2201 - loss: 0.0048 - val_accuracy: 0.0876 - val_loss: 8.0106\n",
      "Epoch 11/30\n",
      "\u001b[1m148/148\u001b[0m \u001b[32m━━━━━━━━━━━━━━━━━━━━\u001b[0m\u001b[37m\u001b[0m \u001b[1m63s\u001b[0m 426ms/step - accuracy: 0.2201 - loss: 0.0043 - val_accuracy: 0.0878 - val_loss: 8.0031\n",
      "Epoch 12/30\n",
      "\u001b[1m148/148\u001b[0m \u001b[32m━━━━━━━━━━━━━━━━━━━━\u001b[0m\u001b[37m\u001b[0m \u001b[1m67s\u001b[0m 450ms/step - accuracy: 0.2202 - loss: 0.0040 - val_accuracy: 0.0876 - val_loss: 8.0443\n",
      "Epoch 13/30\n",
      "\u001b[1m148/148\u001b[0m \u001b[32m━━━━━━━━━━━━━━━━━━━━\u001b[0m\u001b[37m\u001b[0m \u001b[1m63s\u001b[0m 426ms/step - accuracy: 0.2201 - loss: 0.0062 - val_accuracy: 0.0875 - val_loss: 8.0441\n",
      "Epoch 14/30\n",
      "\u001b[1m148/148\u001b[0m \u001b[32m━━━━━━━━━━━━━━━━━━━━\u001b[0m\u001b[37m\u001b[0m \u001b[1m63s\u001b[0m 425ms/step - accuracy: 0.2190 - loss: 0.0286 - val_accuracy: 0.0847 - val_loss: 7.9604\n",
      "Epoch 15/30\n",
      "\u001b[1m148/148\u001b[0m \u001b[32m━━━━━━━━━━━━━━━━━━━━\u001b[0m\u001b[37m\u001b[0m \u001b[1m80s\u001b[0m 411ms/step - accuracy: 0.2157 - loss: 0.0856 - val_accuracy: 0.0853 - val_loss: 7.9628\n",
      "Epoch 16/30\n",
      "\u001b[1m148/148\u001b[0m \u001b[32m━━━━━━━━━━━━━━━━━━━━\u001b[0m\u001b[37m\u001b[0m \u001b[1m63s\u001b[0m 426ms/step - accuracy: 0.2189 - loss: 0.0312 - val_accuracy: 0.0863 - val_loss: 7.9908\n",
      "Epoch 17/30\n",
      "\u001b[1m148/148\u001b[0m \u001b[32m━━━━━━━━━━━━━━━━━━━━\u001b[0m\u001b[37m\u001b[0m \u001b[1m63s\u001b[0m 426ms/step - accuracy: 0.2200 - loss: 0.0096 - val_accuracy: 0.0871 - val_loss: 8.0318\n",
      "Epoch 18/30\n",
      "\u001b[1m148/148\u001b[0m \u001b[32m━━━━━━━━━━━━━━━━━━━━\u001b[0m\u001b[37m\u001b[0m \u001b[1m67s\u001b[0m 450ms/step - accuracy: 0.2201 - loss: 0.0048 - val_accuracy: 0.0874 - val_loss: 8.0583\n",
      "Epoch 19/30\n",
      "\u001b[1m148/148\u001b[0m \u001b[32m━━━━━━━━━━━━━━━━━━━━\u001b[0m\u001b[37m\u001b[0m \u001b[1m67s\u001b[0m 453ms/step - accuracy: 0.2202 - loss: 0.0039 - val_accuracy: 0.0873 - val_loss: 8.0686\n",
      "Epoch 20/30\n",
      "\u001b[1m148/148\u001b[0m \u001b[32m━━━━━━━━━━━━━━━━━━━━\u001b[0m\u001b[37m\u001b[0m \u001b[1m67s\u001b[0m 453ms/step - accuracy: 0.2202 - loss: 0.0036 - val_accuracy: 0.0874 - val_loss: 8.0859\n",
      "Epoch 21/30\n",
      "\u001b[1m148/148\u001b[0m \u001b[32m━━━━━━━━━━━━━━━━━━━━\u001b[0m\u001b[37m\u001b[0m \u001b[1m67s\u001b[0m 451ms/step - accuracy: 0.2202 - loss: 0.0035 - val_accuracy: 0.0875 - val_loss: 8.1043\n",
      "Epoch 22/30\n",
      "\u001b[1m148/148\u001b[0m \u001b[32m━━━━━━━━━━━━━━━━━━━━\u001b[0m\u001b[37m\u001b[0m \u001b[1m66s\u001b[0m 444ms/step - accuracy: 0.2202 - loss: 0.0034 - val_accuracy: 0.0875 - val_loss: 8.1158\n",
      "Epoch 23/30\n",
      "\u001b[1m148/148\u001b[0m \u001b[32m━━━━━━━━━━━━━━━━━━━━\u001b[0m\u001b[37m\u001b[0m \u001b[1m84s\u001b[0m 569ms/step - accuracy: 0.2202 - loss: 0.0032 - val_accuracy: 0.0877 - val_loss: 8.1296\n",
      "Epoch 24/30\n",
      "\u001b[1m148/148\u001b[0m \u001b[32m━━━━━━━━━━━━━━━━━━━━\u001b[0m\u001b[37m\u001b[0m \u001b[1m68s\u001b[0m 460ms/step - accuracy: 0.2202 - loss: 0.0034 - val_accuracy: 0.0876 - val_loss: 8.1385\n",
      "Epoch 25/30\n",
      "\u001b[1m148/148\u001b[0m \u001b[32m━━━━━━━━━━━━━━━━━━━━\u001b[0m\u001b[37m\u001b[0m \u001b[1m66s\u001b[0m 447ms/step - accuracy: 0.2202 - loss: 0.0033 - val_accuracy: 0.0877 - val_loss: 8.1489\n",
      "Epoch 26/30\n",
      "\u001b[1m148/148\u001b[0m \u001b[32m━━━━━━━━━━━━━━━━━━━━\u001b[0m\u001b[37m\u001b[0m \u001b[1m67s\u001b[0m 454ms/step - accuracy: 0.2202 - loss: 0.0031 - val_accuracy: 0.0878 - val_loss: 8.1651\n",
      "Epoch 27/30\n",
      "\u001b[1m148/148\u001b[0m \u001b[32m━━━━━━━━━━━━━━━━━━━━\u001b[0m\u001b[37m\u001b[0m \u001b[1m68s\u001b[0m 458ms/step - accuracy: 0.2202 - loss: 0.0031 - val_accuracy: 0.0879 - val_loss: 8.1862\n",
      "Epoch 28/30\n",
      "\u001b[1m148/148\u001b[0m \u001b[32m━━━━━━━━━━━━━━━━━━━━\u001b[0m\u001b[37m\u001b[0m \u001b[1m65s\u001b[0m 437ms/step - accuracy: 0.2202 - loss: 0.0031 - val_accuracy: 0.0879 - val_loss: 8.1863\n",
      "Epoch 29/30\n",
      "\u001b[1m148/148\u001b[0m \u001b[32m━━━━━━━━━━━━━━━━━━━━\u001b[0m\u001b[37m\u001b[0m \u001b[1m64s\u001b[0m 435ms/step - accuracy: 0.2202 - loss: 0.0030 - val_accuracy: 0.0880 - val_loss: 8.1958\n",
      "Epoch 30/30\n",
      "\u001b[1m148/148\u001b[0m \u001b[32m━━━━━━━━━━━━━━━━━━━━\u001b[0m\u001b[37m\u001b[0m \u001b[1m66s\u001b[0m 447ms/step - accuracy: 0.2202 - loss: 0.0031 - val_accuracy: 0.0881 - val_loss: 8.2069\n"
     ]
    }
   ],
   "source": [
    "decoder_teacher_forcing_model.compile(\n",
    "    loss='sparse_categorical_crossentropy',\n",
    "    optimizer='adam',\n",
    "    metrics=['accuracy']\n",
    ")\n",
    "\n",
    "\n",
    "history = decoder_teacher_forcing_model.fit(\n",
    "    [enc_inputs_padded, dec_inputs_padded],  # 인코더 입력, 디코더 입력\n",
    "    dec_targets_padded,                      # 디코더 타깃 (정수 라벨, shape: (N, T_dec))\n",
    "    batch_size=64,\n",
    "    epochs=30,\n",
    "    validation_split=0.2\n",
    ")"
   ]
  },
  {
   "cell_type": "code",
   "execution_count": 58,
   "id": "42943d21",
   "metadata": {},
   "outputs": [],
   "source": [
    "# 모델 저장\n",
    "decoder_teacher_forcing_model.save('chatbot_teaching_force_model.keras')"
   ]
  },
  {
   "cell_type": "markdown",
   "id": "6a058ad3",
   "metadata": {},
   "source": [
    "---\n",
    "---\n",
    "\n",
    "## 여기서부터 시작해주세요"
   ]
  },
  {
   "cell_type": "code",
   "execution_count": 59,
   "id": "a43f7ea7",
   "metadata": {},
   "outputs": [],
   "source": [
    "from tensorflow.keras.models import load_model\n",
    "chatbot_teaching_force_model = load_model('chatbot_teaching_force_model.keras')"
   ]
  },
  {
   "cell_type": "markdown",
   "id": "219d98c4",
   "metadata": {},
   "source": [
    "### 모델 추론\n",
    "`encoder + decoder(inference)` 구조의 모델로 추론"
   ]
  },
  {
   "cell_type": "markdown",
   "id": "e3264d4e",
   "metadata": {},
   "source": [
    "##### 디코더 (추론 모델) 생성"
   ]
  },
  {
   "cell_type": "code",
   "execution_count": null,
   "id": "09f83e2c",
   "metadata": {},
   "outputs": [
    {
     "data": {
      "text/html": [
       "<pre style=\"white-space:pre;overflow-x:auto;line-height:normal;font-family:Menlo,'DejaVu Sans Mono',consolas,'Courier New',monospace\"><span style=\"font-weight: bold\">Model: \"decoder_infer\"</span>\n",
       "</pre>\n"
      ],
      "text/plain": [
       "\u001b[1mModel: \"decoder_infer\"\u001b[0m\n"
      ]
     },
     "metadata": {},
     "output_type": "display_data"
    },
    {
     "data": {
      "text/html": [
       "<pre style=\"white-space:pre;overflow-x:auto;line-height:normal;font-family:Menlo,'DejaVu Sans Mono',consolas,'Courier New',monospace\">┏━━━━━━━━━━━━━━━━━━━━━┳━━━━━━━━━━━━━━━━━━━┳━━━━━━━━━━━━┳━━━━━━━━━━━━━━━━━━━┓\n",
       "┃<span style=\"font-weight: bold\"> Layer (type)        </span>┃<span style=\"font-weight: bold\"> Output Shape      </span>┃<span style=\"font-weight: bold\">    Param # </span>┃<span style=\"font-weight: bold\"> Connected to      </span>┃\n",
       "┡━━━━━━━━━━━━━━━━━━━━━╇━━━━━━━━━━━━━━━━━━━╇━━━━━━━━━━━━╇━━━━━━━━━━━━━━━━━━━┩\n",
       "│ dec_token_in        │ (<span style=\"color: #00d7ff; text-decoration-color: #00d7ff\">None</span>, <span style=\"color: #00af00; text-decoration-color: #00af00\">1</span>)         │          <span style=\"color: #00af00; text-decoration-color: #00af00\">0</span> │ -                 │\n",
       "│ (<span style=\"color: #0087ff; text-decoration-color: #0087ff\">InputLayer</span>)        │                   │            │                   │\n",
       "├─────────────────────┼───────────────────┼────────────┼───────────────────┤\n",
       "│ dec_embedding       │ (<span style=\"color: #00d7ff; text-decoration-color: #00d7ff\">None</span>, <span style=\"color: #00af00; text-decoration-color: #00af00\">1</span>, <span style=\"color: #00af00; text-decoration-color: #00af00\">256</span>)    │  <span style=\"color: #00af00; text-decoration-color: #00af00\">1,314,304</span> │ dec_token_in[<span style=\"color: #00af00; text-decoration-color: #00af00\">0</span>][<span style=\"color: #00af00; text-decoration-color: #00af00\">…</span> │\n",
       "│ (<span style=\"color: #0087ff; text-decoration-color: #0087ff\">Embedding</span>)         │                   │            │                   │\n",
       "├─────────────────────┼───────────────────┼────────────┼───────────────────┤\n",
       "│ dec_state_h         │ (<span style=\"color: #00d7ff; text-decoration-color: #00d7ff\">None</span>, <span style=\"color: #00af00; text-decoration-color: #00af00\">512</span>)       │          <span style=\"color: #00af00; text-decoration-color: #00af00\">0</span> │ -                 │\n",
       "│ (<span style=\"color: #0087ff; text-decoration-color: #0087ff\">InputLayer</span>)        │                   │            │                   │\n",
       "├─────────────────────┼───────────────────┼────────────┼───────────────────┤\n",
       "│ dec_state_c         │ (<span style=\"color: #00d7ff; text-decoration-color: #00d7ff\">None</span>, <span style=\"color: #00af00; text-decoration-color: #00af00\">512</span>)       │          <span style=\"color: #00af00; text-decoration-color: #00af00\">0</span> │ -                 │\n",
       "│ (<span style=\"color: #0087ff; text-decoration-color: #0087ff\">InputLayer</span>)        │                   │            │                   │\n",
       "├─────────────────────┼───────────────────┼────────────┼───────────────────┤\n",
       "│ lstm_2 (<span style=\"color: #0087ff; text-decoration-color: #0087ff\">LSTM</span>)       │ [(<span style=\"color: #00d7ff; text-decoration-color: #00d7ff\">None</span>, <span style=\"color: #00af00; text-decoration-color: #00af00\">1</span>, <span style=\"color: #00af00; text-decoration-color: #00af00\">512</span>),  │  <span style=\"color: #00af00; text-decoration-color: #00af00\">1,574,912</span> │ dec_embedding[<span style=\"color: #00af00; text-decoration-color: #00af00\">1</span>]… │\n",
       "│                     │ (<span style=\"color: #00d7ff; text-decoration-color: #00d7ff\">None</span>, <span style=\"color: #00af00; text-decoration-color: #00af00\">512</span>),      │            │ dec_state_h[<span style=\"color: #00af00; text-decoration-color: #00af00\">0</span>][<span style=\"color: #00af00; text-decoration-color: #00af00\">0</span>… │\n",
       "│                     │ (<span style=\"color: #00d7ff; text-decoration-color: #00d7ff\">None</span>, <span style=\"color: #00af00; text-decoration-color: #00af00\">512</span>)]      │            │ dec_state_c[<span style=\"color: #00af00; text-decoration-color: #00af00\">0</span>][<span style=\"color: #00af00; text-decoration-color: #00af00\">0</span>] │\n",
       "├─────────────────────┼───────────────────┼────────────┼───────────────────┤\n",
       "│ dense (<span style=\"color: #0087ff; text-decoration-color: #0087ff\">Dense</span>)       │ (<span style=\"color: #00d7ff; text-decoration-color: #00d7ff\">None</span>, <span style=\"color: #00af00; text-decoration-color: #00af00\">1</span>, <span style=\"color: #00af00; text-decoration-color: #00af00\">5134</span>)   │  <span style=\"color: #00af00; text-decoration-color: #00af00\">2,633,742</span> │ lstm_2[<span style=\"color: #00af00; text-decoration-color: #00af00\">1</span>][<span style=\"color: #00af00; text-decoration-color: #00af00\">0</span>]      │\n",
       "└─────────────────────┴───────────────────┴────────────┴───────────────────┘\n",
       "</pre>\n"
      ],
      "text/plain": [
       "┏━━━━━━━━━━━━━━━━━━━━━┳━━━━━━━━━━━━━━━━━━━┳━━━━━━━━━━━━┳━━━━━━━━━━━━━━━━━━━┓\n",
       "┃\u001b[1m \u001b[0m\u001b[1mLayer (type)       \u001b[0m\u001b[1m \u001b[0m┃\u001b[1m \u001b[0m\u001b[1mOutput Shape     \u001b[0m\u001b[1m \u001b[0m┃\u001b[1m \u001b[0m\u001b[1m   Param #\u001b[0m\u001b[1m \u001b[0m┃\u001b[1m \u001b[0m\u001b[1mConnected to     \u001b[0m\u001b[1m \u001b[0m┃\n",
       "┡━━━━━━━━━━━━━━━━━━━━━╇━━━━━━━━━━━━━━━━━━━╇━━━━━━━━━━━━╇━━━━━━━━━━━━━━━━━━━┩\n",
       "│ dec_token_in        │ (\u001b[38;5;45mNone\u001b[0m, \u001b[38;5;34m1\u001b[0m)         │          \u001b[38;5;34m0\u001b[0m │ -                 │\n",
       "│ (\u001b[38;5;33mInputLayer\u001b[0m)        │                   │            │                   │\n",
       "├─────────────────────┼───────────────────┼────────────┼───────────────────┤\n",
       "│ dec_embedding       │ (\u001b[38;5;45mNone\u001b[0m, \u001b[38;5;34m1\u001b[0m, \u001b[38;5;34m256\u001b[0m)    │  \u001b[38;5;34m1,314,304\u001b[0m │ dec_token_in[\u001b[38;5;34m0\u001b[0m][\u001b[38;5;34m…\u001b[0m │\n",
       "│ (\u001b[38;5;33mEmbedding\u001b[0m)         │                   │            │                   │\n",
       "├─────────────────────┼───────────────────┼────────────┼───────────────────┤\n",
       "│ dec_state_h         │ (\u001b[38;5;45mNone\u001b[0m, \u001b[38;5;34m512\u001b[0m)       │          \u001b[38;5;34m0\u001b[0m │ -                 │\n",
       "│ (\u001b[38;5;33mInputLayer\u001b[0m)        │                   │            │                   │\n",
       "├─────────────────────┼───────────────────┼────────────┼───────────────────┤\n",
       "│ dec_state_c         │ (\u001b[38;5;45mNone\u001b[0m, \u001b[38;5;34m512\u001b[0m)       │          \u001b[38;5;34m0\u001b[0m │ -                 │\n",
       "│ (\u001b[38;5;33mInputLayer\u001b[0m)        │                   │            │                   │\n",
       "├─────────────────────┼───────────────────┼────────────┼───────────────────┤\n",
       "│ lstm_2 (\u001b[38;5;33mLSTM\u001b[0m)       │ [(\u001b[38;5;45mNone\u001b[0m, \u001b[38;5;34m1\u001b[0m, \u001b[38;5;34m512\u001b[0m),  │  \u001b[38;5;34m1,574,912\u001b[0m │ dec_embedding[\u001b[38;5;34m1\u001b[0m]… │\n",
       "│                     │ (\u001b[38;5;45mNone\u001b[0m, \u001b[38;5;34m512\u001b[0m),      │            │ dec_state_h[\u001b[38;5;34m0\u001b[0m][\u001b[38;5;34m0\u001b[0m… │\n",
       "│                     │ (\u001b[38;5;45mNone\u001b[0m, \u001b[38;5;34m512\u001b[0m)]      │            │ dec_state_c[\u001b[38;5;34m0\u001b[0m][\u001b[38;5;34m0\u001b[0m] │\n",
       "├─────────────────────┼───────────────────┼────────────┼───────────────────┤\n",
       "│ dense (\u001b[38;5;33mDense\u001b[0m)       │ (\u001b[38;5;45mNone\u001b[0m, \u001b[38;5;34m1\u001b[0m, \u001b[38;5;34m5134\u001b[0m)   │  \u001b[38;5;34m2,633,742\u001b[0m │ lstm_2[\u001b[38;5;34m1\u001b[0m][\u001b[38;5;34m0\u001b[0m]      │\n",
       "└─────────────────────┴───────────────────┴────────────┴───────────────────┘\n"
      ]
     },
     "metadata": {},
     "output_type": "display_data"
    },
    {
     "data": {
      "text/html": [
       "<pre style=\"white-space:pre;overflow-x:auto;line-height:normal;font-family:Menlo,'DejaVu Sans Mono',consolas,'Courier New',monospace\"><span style=\"font-weight: bold\"> Total params: </span><span style=\"color: #00af00; text-decoration-color: #00af00\">5,522,958</span> (21.07 MB)\n",
       "</pre>\n"
      ],
      "text/plain": [
       "\u001b[1m Total params: \u001b[0m\u001b[38;5;34m5,522,958\u001b[0m (21.07 MB)\n"
      ]
     },
     "metadata": {},
     "output_type": "display_data"
    },
    {
     "data": {
      "text/html": [
       "<pre style=\"white-space:pre;overflow-x:auto;line-height:normal;font-family:Menlo,'DejaVu Sans Mono',consolas,'Courier New',monospace\"><span style=\"font-weight: bold\"> Trainable params: </span><span style=\"color: #00af00; text-decoration-color: #00af00\">5,522,958</span> (21.07 MB)\n",
       "</pre>\n"
      ],
      "text/plain": [
       "\u001b[1m Trainable params: \u001b[0m\u001b[38;5;34m5,522,958\u001b[0m (21.07 MB)\n"
      ]
     },
     "metadata": {},
     "output_type": "display_data"
    },
    {
     "data": {
      "text/html": [
       "<pre style=\"white-space:pre;overflow-x:auto;line-height:normal;font-family:Menlo,'DejaVu Sans Mono',consolas,'Courier New',monospace\"><span style=\"font-weight: bold\"> Non-trainable params: </span><span style=\"color: #00af00; text-decoration-color: #00af00\">0</span> (0.00 B)\n",
       "</pre>\n"
      ],
      "text/plain": [
       "\u001b[1m Non-trainable params: \u001b[0m\u001b[38;5;34m0\u001b[0m (0.00 B)\n"
      ]
     },
     "metadata": {},
     "output_type": "display_data"
    }
   ],
   "source": [
    "enc_len = enc_inputs_padded.shape[1]\n",
    "dec_len = dec_inputs_padded.shape[1]\n",
    "\n",
    "# 디코더 추론 모델 (강사님 포맷 그대로)\n",
    "decoder_hidden_state = layers.Input(shape=(LATENT_DIM,), name=\"dec_state_h\")\n",
    "decoder_cell_state  = layers.Input(shape=(LATENT_DIM,), name=\"dec_state_c\")\n",
    "decoder_states_inputs = [decoder_hidden_state, decoder_cell_state]\n",
    "\n",
    "decoder_single_input = layers.Input(shape=(1,), name=\"dec_token_in\")\n",
    "\n",
    "x = dec_embedding(decoder_single_input)                     # 공유 임베딩\n",
    "x, h, c = decoder_lstm(x, initial_state=decoder_states_inputs)  # 공유 LSTM\n",
    "decoder_states = [h, c]\n",
    "\n",
    "decoder_outputs_ = decoder_dense(x)                         # 공유 Dense\n",
    "\n",
    "decoder_inference_model = models.Model(\n",
    "    inputs=[decoder_single_input] + decoder_states_inputs,\n",
    "    outputs=[decoder_outputs_] + decoder_states,\n",
    "    name=\"decoder_infer\"\n",
    ")\n",
    "decoder_inference_model.summary()"
   ]
  },
  {
   "cell_type": "markdown",
   "id": "d08e0462",
   "metadata": {},
   "source": [
    "##### 추론 함수"
   ]
  },
  {
   "cell_type": "code",
   "execution_count": null,
   "id": "421e499e",
   "metadata": {},
   "outputs": [],
   "source": [
    "# translate 함수 (강사님 흐름 그대로, SP에 맞게) \n",
    "def translate(input_seq):\n",
    "    # 1) 인코더 상태\n",
    "    encoder_states_value = encoder_model.predict(input_seq, verbose=0)\n",
    "    decoder_states_value = encoder_states_value\n",
    "\n",
    "    sos_index = BOS_ID\n",
    "    eos_index = EOS_ID\n",
    "\n",
    "    # 2) 디코더 시작 토큰\n",
    "    target_seq = np.zeros((1, 1), dtype=\"int32\")\n",
    "    target_seq[0, 0] = sos_index\n",
    "\n",
    "    # 3) 생성 루프\n",
    "    out_ids = []\n",
    "    for _ in range(dec_len):  # 최대 디코더 길이만큼\n",
    "        output_tokens, h, c = decoder_inference_model.predict(\n",
    "            [target_seq] + decoder_states_value, verbose=0\n",
    "        )\n",
    "        pred_proba = output_tokens[0, -1, :]      # (vocab,)\n",
    "        pred_index = int(np.argmax(pred_proba))   # 그리디\n",
    "\n",
    "        if pred_index == eos_index:\n",
    "            break\n",
    "\n",
    "        if pred_index != PAD_ID and pred_index != sos_index:\n",
    "            out_ids.append(pred_index)\n",
    "\n",
    "        target_seq[0, 0] = pred_index\n",
    "        decoder_states_value = [h, c]\n",
    "\n",
    "    # 4) SentencePiece 복원\n",
    "    return sp_dec.decode(out_ids)"
   ]
  },
  {
   "cell_type": "markdown",
   "id": "fcfc4dbf",
   "metadata": {},
   "source": [
    "##### 테스트"
   ]
  },
  {
   "cell_type": "code",
   "execution_count": null,
   "id": "cb27f69a",
   "metadata": {},
   "outputs": [
    {
     "name": "stdout",
     "output_type": "stream",
     "text": [
      "안녕하세요.\n"
     ]
    }
   ],
   "source": [
    "# 헬퍼: 질문 문자열을 input_seq로 변환 (학습 때와 같은 패딩 방향, pre)\n",
    "def make_input_seq(q_text, padding='pre'):\n",
    "    q_ids = sp_enc.encode(q_text, out_type=int)\n",
    "    q_pad = pad_sequences([q_ids], maxlen=enc_len, padding=padding, value=PAD_ID).astype(\"int32\")\n",
    "    return q_pad\n",
    "\n",
    "\n",
    "input_seq = make_input_seq(\"안녕하세요\", padding='pre')\n",
    "print(translate(input_seq))"
   ]
  },
  {
   "cell_type": "markdown",
   "id": "69f0b39f",
   "metadata": {},
   "source": [
    "### 간단한 Chatbot 구현\n",
    "\n",
    "1. 사용자의 입력을 받아 (처리)\n",
    "2. 추론 함수에 전달해서\n",
    "3. 응답을 출력\n",
    "4. 1~3 '종료' 전까지 반복"
   ]
  },
  {
   "cell_type": "code",
   "execution_count": 71,
   "id": "d19324af",
   "metadata": {},
   "outputs": [
    {
     "name": "stdout",
     "output_type": "stream",
     "text": [
      "Q: 안녕\n",
      "A: 안녕하세요.\n",
      "\n",
      "Q: 나 배고파\n",
      "A: 얼른 맛난 음식 드세요.\n",
      "\n",
      "Q: 무엇을 하면 좋을까\n",
      "A: 애교 하나주세요.\n",
      "\n",
      "Q: 종료\n"
     ]
    }
   ],
   "source": [
    "import builtins\n",
    "\n",
    "while True:\n",
    "    input_q = builtins.input(\"질문을 입력해주세요:\")\n",
    "    print(\"Q:\", input_q)\n",
    "    \n",
    "    if input_q == '종료':\n",
    "        break\n",
    "    \n",
    "    # 입력 시퀀싱 처리\n",
    "    input_q_seq = make_input_seq(input_q)\n",
    "    \n",
    "    # 추론함수에 전달 & 응답 출력\n",
    "    ans = translate(input_q_seq)\n",
    "    print(\"A:\", ans)\n",
    "    print()"
   ]
  }
 ],
 "metadata": {
  "kernelspec": {
   "display_name": "nlp_env",
   "language": "python",
   "name": "python3"
  },
  "language_info": {
   "codemirror_mode": {
    "name": "ipython",
    "version": 3
   },
   "file_extension": ".py",
   "mimetype": "text/x-python",
   "name": "python",
   "nbconvert_exporter": "python",
   "pygments_lexer": "ipython3",
   "version": "3.12.11"
  }
 },
 "nbformat": 4,
 "nbformat_minor": 5
}
